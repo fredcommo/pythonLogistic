{
 "metadata": {
  "name": ""
 },
 "nbformat": 3,
 "nbformat_minor": 0,
 "worksheets": [
  {
   "cells": [
    {
     "cell_type": "code",
     "collapsed": false,
     "input": [
      "# Imports\n",
      "import os #optional\n",
      "import sys\n",
      "import numpy as np\n",
      "import matplotlib.pyplot as plt\n",
      "import random as rd\n",
      "import pandas as pd\n",
      "import json\n",
      "from scipy.optimize import minimize\n",
      "\n",
      "import synapseclient\n",
      "syn = synapseclient.login()\n",
      "\n",
      "%matplotlib inline "
     ],
     "language": "python",
     "metadata": {},
     "outputs": [
      {
       "output_type": "stream",
       "stream": "stdout",
       "text": [
        "Welcome, Frederic Commo!\n"
       ]
      }
     ],
     "prompt_number": 1
    },
    {
     "cell_type": "code",
     "collapsed": false,
     "input": [
      "# Functions\n",
      "def getValues(gene, cgh, ge, tissueType=None):\n",
      "    gene = gene.upper()\n",
      "    if tissueType:\n",
      "        filt = [cell for cell in cgh.columns if tissueType in cell]\n",
      "        if filt:\n",
      "            return filt, cgh.ix[gene][filt].values, ge.ix[gene][filt].values, tissueType\n",
      "    else:\n",
      "        return cgh.columns, cgh.ix[gene].values, ge.ix[gene].values, None\n",
      "    \n",
      "def logistic(pars, x):\n",
      "    B=pars[0]; T=pars[1]; xmid=pars[2]; scal=pars[3]; s=pars[4]\n",
      "    yfit = [B + (T - B)/(1+10**((xmid-xi)*scal))**s for xi in x]\n",
      "    return np.asarray(yfit)\n",
      "\n",
      "def SCE(pars, x, yobs, npars=5, wcoef=.25):\n",
      "    if npars==4:\n",
      "        pars[4] = 1\n",
      "    ytheo = logistic(pars, x)\n",
      "    residals = yobs - ytheo\n",
      "    w = (1/(residals**2))**(wcoef)\n",
      "    return sum(w*(yobs - ytheo)**2)\n",
      "\n",
      "def getCoef(x, y):\n",
      "    fit = np.polyfit(x, y, 1)\n",
      "    return fit[0]\n",
      "    \n",
      "def initPar(x, y):\n",
      "    bottom = y.min()*1.\n",
      "    top = y.max()*1.\n",
      "    xmid = (x.max() + x.min())/2.0\n",
      "    z = (y - bottom)/(top - bottom)\n",
      "    z[z<=0] = 0.01; z[z>=1] = 0.99\n",
      "    scal = getCoef(x, np.log(z/(1-z)))\n",
      "    s = 1\n",
      "    return bottom, top, xmid, scal, s\n",
      "\n",
      "def fitLogistic(x, y, method=None):\n",
      "    init = initPar(x, y)\n",
      "    best = minimize(SCE, x0=init, args=(x, y), method=method)\n",
      "    return best.x\n",
      "\n",
      "def stdErr(yobs, yfit):\n",
      "    n = len(yobs)*1.\n",
      "    return np.sqrt(1/(n-2)*sum((yfit - yobs)**2))\n",
      "\n",
      "def saveJSON(samp, x, y, xfit, yfit, fileName):\n",
      "    jsondat = [{'sample':sampi, 'x':xi,'y':yi, 'xfit':xfiti, 'yfit':yfiti} for sampi, xi,yi,xfiti,yfiti in zip(samp, x, y, xfit, yfit)]\n",
      "    with open(fileName, 'w') as fp:\n",
      "        json.dump(jsondat, fp, indent=1)\n",
      "    print \"Saved.\"\n",
      "\n",
      "def main(gene):\n",
      "    # argv has to be a valid gene\n",
      "    #cgh = pd.read_csv(\"Data/CGH.csv\")\n",
      "    #ge = pd.read_csv(\"Data/GE.csv\")\n",
      "    gene = gene.upper()\n",
      "    try:\n",
      "        assert(gene in cgh.index)\n",
      "        samp, x, y = getValues(gene, cgh, ge)\n",
      "        pars = fitLogistic(x, y, method=\"Nelder-Mead\")\n",
      "        newx = np.linspace(x.min(), x.max(), len(x))\n",
      "        saveJSON(samp, x, y, newx, logistic(pars, newx), \"fit.json\")\n",
      "    except:\n",
      "        print gene, \"seems to be not a valid symbol.\"\n",
      "        sys.exit()\n",
      "\n",
      "os.getcwd()\n",
      "#if __name__ == \"__main__\":\n",
      "#    main(sys.argv[1])"
     ],
     "language": "python",
     "metadata": {},
     "outputs": [
      {
       "metadata": {},
       "output_type": "pyout",
       "prompt_number": 2,
       "text": [
        "'/Users/fredcommo/Documents/Courses/D3_JS/pythonLogistic/Code'"
       ]
      }
     ],
     "prompt_number": 2
    },
    {
     "cell_type": "markdown",
     "metadata": {},
     "source": [
      "## Simulated data"
     ]
    },
    {
     "cell_type": "code",
     "collapsed": false,
     "input": [
      "\n",
      "\n",
      "# Testing\n",
      "rd.seed(12355)\n",
      "n = 20\n",
      "x = np.asarray([rd.gauss(0, 1) for i in range(n)])\n",
      "\n",
      "# True pars\n",
      "pars = [-0.1, 1.1, 0, 1.2, .7]\n",
      "\n",
      "# Generate values + noise\n",
      "noise = [rd.gauss(0, .05) for i in range(len(x))]\n",
      "y = logistic(pars, x)\n",
      "y = y + np.asarray(noise)\n",
      "\n",
      "# Method and weight-coef (defaults are: None for method, .25 for wcoef)\n",
      "method=\"Nelder-Mead\"\n",
      "wcoef = .25\n",
      "\n",
      "# Optimize using 4 pars\n",
      "init = initPar(x, y)\n",
      "best = minimize(SCE, x0=init, args=(x, y, 4), method=method)\n",
      "optPars4 = best.x\n",
      "\n",
      "print \"Initial pars:\", pars\n",
      "print\n",
      "print \"------ Pref using 4 pars ------\"\n",
      "print \"Optimal pars:\", optPars4\n",
      "print \"Error: \", stdErr(y, logistic(optPars4, x))\n",
      "print\n",
      "\n",
      "best = minimize(SCE, x0=init, args=(x, y), method=method)\n",
      "optPars5 = best.x\n",
      "\n",
      "print \"------ Pref using 5 pars ------\"\n",
      "print \"Optimal pars:\", optPars5\n",
      "print \"Error: \", stdErr(y, logistic(optPars5, x))\n",
      "print\n",
      "\n",
      "# Visualize\n",
      "newx = np.linspace(x.min(), x.max(), n)\n",
      "fit4 = logistic(optPars4, newx)\n",
      "fit5 = logistic(optPars5, newx)\n",
      "plt.scatter(x, y)\n",
      "plt.plot(newx, fit4, linewidth=2, color=\"red\")\n",
      "plt.plot(newx, fit5, linewidth=2, color=\"green\")\n",
      "\n",
      "#samp = [\"samp\"+str(i+1) for i in range(n)]\n",
      "#fileName = \"simul.json\"\n",
      "#saveJSON(samp, x, y, newx, logistic(optPars, x), fileName)"
     ],
     "language": "python",
     "metadata": {},
     "outputs": [
      {
       "output_type": "stream",
       "stream": "stdout",
       "text": [
        "Initial pars: [-0.1, 1.1, 0, 1.2, 0.7]\n",
        "\n",
        "------ Pref using 4 pars ------\n",
        "Optimal pars: [-0.08175028  1.10990156 -0.20578476  1.09934175  1.        ]\n",
        "Error:  0.0466278623895\n",
        "\n",
        "------ Pref using 5 pars ------"
       ]
      },
      {
       "output_type": "stream",
       "stream": "stdout",
       "text": [
        "\n",
        "Optimal pars: [-0.00544888  1.08539445 -0.12946608  1.30977062  0.93398123]\n",
        "Error:  0.04354224061\n",
        "\n"
       ]
      },
      {
       "metadata": {},
       "output_type": "pyout",
       "prompt_number": 42,
       "text": [
        "[<matplotlib.lines.Line2D at 0x10c9dcf10>]"
       ]
      },
      {
       "metadata": {},
       "output_type": "display_data",
       "png": "[encoded data removed]",
       "text": [
        "<matplotlib.figure.Figure at 0x10c9bf090>"
       ]
      }
     ],
     "prompt_number": 42
    },
    {
     "cell_type": "markdown",
     "metadata": {},
     "source": [
      "## Real data:\n",
      "### CGH & Gene Exprs. data are stored in the same dir as the .py"
     ]
    },
    {
     "cell_type": "code",
     "collapsed": false,
     "input": [
      "# From local dir\n",
      "#cgh = pd.read_csv(\"../Data/CGH.csv\")\n",
      "#ge = pd.read_csv(\"../Data/GE.csv\")\n",
      "\n",
      "# From synapse\n",
      "cgh = pd.read_csv(syn.get('syn2325829').path)\n",
      "ge = pd.read_csv(syn.get(\"syn2325838\").path)\n"
     ],
     "language": "python",
     "metadata": {},
     "outputs": [
      {
       "output_type": "stream",
       "stream": "stdout",
       "text": [
        "CPU times: user 3.94 s, sys: 171 ms, total: 4.11 s\n",
        "Wall time: 4.11 s\n",
        "CPU times: user 4.25 s, sys: 228 ms, total: 4.48 s"
       ]
      },
      {
       "output_type": "stream",
       "stream": "stdout",
       "text": [
        "\n",
        "Wall time: 7.72 s\n"
       ]
      }
     ],
     "prompt_number": 7
    },
    {
     "cell_type": "code",
     "collapsed": false,
     "input": [
      "print cgh.shape, ge.shape"
     ],
     "language": "python",
     "metadata": {},
     "outputs": [
      {
       "output_type": "stream",
       "stream": "stdout",
       "text": [
        "(16265, 961) (16265, 961)\n"
       ]
      }
     ],
     "prompt_number": 8
    },
    {
     "cell_type": "code",
     "collapsed": false,
     "input": [
      "gene = \"erbb2\"\n",
      "samp, x, y, tissueType = getValues(gene, cgh, ge, \"BREAST\")\n",
      "pars = fitLogistic(x, y, method=\"Nelder-Mead\")\n",
      "print pars\n"
     ],
     "language": "python",
     "metadata": {},
     "outputs": [
      {
       "output_type": "stream",
       "stream": "stdout",
       "text": [
        "[-0.01277415  0.15688621  1.38580229  2.54157711  0.26374886]\n"
       ]
      }
     ],
     "prompt_number": 9
    },
    {
     "cell_type": "code",
     "collapsed": false,
     "input": [
      "def plotModel(gene, x, y, pars, tissueType):\n",
      "    gene = gene.upper()\n",
      "    newx = np.linspace(x.min(), x.max(), 100)\n",
      "    fit = logistic(pars, newx)\n",
      "    plt.title(gene)\n",
      "    if tissueType:\n",
      "        plt.title(gene + \" on \" + str(len(x)) + \" \" + tissueType + \" cell lines\")\n",
      "    plt.scatter(x, y)\n",
      "    plt.plot(newx, fit, linewidth=2, color=\"red\")\n",
      "    print \"Error:\", stdErr(y, logistic(pars, x))\n",
      "    \n",
      "plotModel(gene, x, y, pars, tissueType)"
     ],
     "language": "python",
     "metadata": {},
     "outputs": [
      {
       "output_type": "stream",
       "stream": "stdout",
       "text": [
        "Error: 0.0230725225737\n"
       ]
      },
      {
       "metadata": {},
       "output_type": "display_data",
       "png": "[encoded data removed]",
       "text": [
        "<matplotlib.figure.Figure at 0x10a8818d0>"
       ]
      }
     ],
     "prompt_number": 10
    },
    {
     "cell_type": "markdown",
     "metadata": {},
     "source": [
      "### Save results as fit.json"
     ]
    },
    {
     "cell_type": "code",
     "collapsed": false,
     "input": [
      "newx = np.linspace(x.min(), x.max(), len(x))\n",
      "saveJSON(samp, x, y, newx, logistic(pars, newx), \"fit.json\")"
     ],
     "language": "python",
     "metadata": {},
     "outputs": [
      {
       "output_type": "stream",
       "stream": "stdout",
       "text": [
        "Saved.\n"
       ]
      }
     ],
     "prompt_number": 11
    },
    {
     "cell_type": "code",
     "collapsed": false,
     "input": [
      "!open index.html\n"
     ],
     "language": "python",
     "metadata": {},
     "outputs": [],
     "prompt_number": 12
    },
    {
     "cell_type": "code",
     "collapsed": false,
     "input": [],
     "language": "python",
     "metadata": {},
     "outputs": []
    },
    {
     "cell_type": "code",
     "collapsed": false,
     "input": [
      "# Filter on tissue type\n",
      "cells = cgh.columns\n",
      "tissueType = None\n",
      "filt = [cell for cell in cells if tissueType in cell]\n",
      "filt=None\n",
      "if filt:\n",
      "    print \"ok\"\n",
      "#cgh.ix[gene.upper()][filt]"
     ],
     "language": "python",
     "metadata": {},
     "outputs": []
    },
    {
     "cell_type": "code",
     "collapsed": false,
     "input": [],
     "language": "python",
     "metadata": {},
     "outputs": []
    }
   ],
   "metadata": {}
  }
 ]
}